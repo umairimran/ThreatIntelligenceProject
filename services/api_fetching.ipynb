{
 "cells": [
  {
   "cell_type": "code",
   "execution_count": 1,
   "metadata": {},
   "outputs": [],
   "source": [
    "from OTXv2 import *\n",
    "from pandas import json_normalize\n",
    "from dotenv import load_dotenv"
   ]
  },
  {
   "cell_type": "code",
   "execution_count": 2,
   "metadata": {},
   "outputs": [
    {
     "data": {
      "text/plain": [
       "True"
      ]
     },
     "execution_count": 2,
     "metadata": {},
     "output_type": "execute_result"
    }
   ],
   "source": [
    "load_dotenv()"
   ]
  },
  {
   "cell_type": "code",
   "execution_count": 3,
   "metadata": {},
   "outputs": [],
   "source": [
    "## load the environment variables\n",
    "api =  os.getenv('API_KEY')"
   ]
  },
  {
   "cell_type": "code",
   "execution_count": 41,
   "metadata": {},
   "outputs": [],
   "source": [
    "otx_object = OTXv2(api)\n",
    "indicators=otx_object.search_pulses(\"Pakistan\")"
   ]
  },
  {
   "cell_type": "code",
   "execution_count": 42,
   "metadata": {},
   "outputs": [],
   "source": [
    "df=json_normalize(indicators)"
   ]
  },
  {
   "cell_type": "code",
   "execution_count": 48,
   "metadata": {},
   "outputs": [],
   "source": [
    "df['results'][0][0]['id']\n",
    "df2=otx_object.get_pulse_details(\"66794486bda6c3cf8823c604\")"
   ]
  },
  {
   "cell_type": "code",
   "execution_count": 51,
   "metadata": {},
   "outputs": [],
   "source": [
    "df=json_normalize( df2['indicators'])"
   ]
  },
  {
   "cell_type": "code",
   "execution_count": 56,
   "metadata": {},
   "outputs": [
    {
     "data": {
      "text/html": [
       "<div>\n",
       "<style scoped>\n",
       "    .dataframe tbody tr th:only-of-type {\n",
       "        vertical-align: middle;\n",
       "    }\n",
       "\n",
       "    .dataframe tbody tr th {\n",
       "        vertical-align: top;\n",
       "    }\n",
       "\n",
       "    .dataframe thead th {\n",
       "        text-align: right;\n",
       "    }\n",
       "</style>\n",
       "<table border=\"1\" class=\"dataframe\">\n",
       "  <thead>\n",
       "    <tr style=\"text-align: right;\">\n",
       "      <th></th>\n",
       "      <th>general.whois</th>\n",
       "      <th>general.reputation</th>\n",
       "      <th>general.indicator</th>\n",
       "      <th>general.type</th>\n",
       "      <th>general.type_title</th>\n",
       "      <th>general.base_indicator.id</th>\n",
       "      <th>general.base_indicator.indicator</th>\n",
       "      <th>general.base_indicator.type</th>\n",
       "      <th>general.base_indicator.title</th>\n",
       "      <th>general.base_indicator.description</th>\n",
       "      <th>...</th>\n",
       "      <th>malware.count</th>\n",
       "      <th>url_list.url_list</th>\n",
       "      <th>url_list.page_num</th>\n",
       "      <th>url_list.limit</th>\n",
       "      <th>url_list.paged</th>\n",
       "      <th>url_list.has_next</th>\n",
       "      <th>url_list.full_size</th>\n",
       "      <th>url_list.actual_size</th>\n",
       "      <th>passive_dns.passive_dns</th>\n",
       "      <th>passive_dns.count</th>\n",
       "    </tr>\n",
       "  </thead>\n",
       "  <tbody>\n",
       "    <tr>\n",
       "      <th>0</th>\n",
       "      <td>http://whois.domaintools.com/52.221.198.232</td>\n",
       "      <td>0</td>\n",
       "      <td>52.221.198.232</td>\n",
       "      <td>IPv4</td>\n",
       "      <td>IPv4</td>\n",
       "      <td>3920056104</td>\n",
       "      <td>52.221.198.232</td>\n",
       "      <td>IPv4</td>\n",
       "      <td></td>\n",
       "      <td></td>\n",
       "      <td>...</td>\n",
       "      <td>0</td>\n",
       "      <td>[{'url': 'https://52.221.198.232', 'date': '20...</td>\n",
       "      <td>1</td>\n",
       "      <td>10</td>\n",
       "      <td>True</td>\n",
       "      <td>False</td>\n",
       "      <td>2</td>\n",
       "      <td>2</td>\n",
       "      <td>[]</td>\n",
       "      <td>0</td>\n",
       "    </tr>\n",
       "  </tbody>\n",
       "</table>\n",
       "<p>1 rows × 76 columns</p>\n",
       "</div>"
      ],
      "text/plain": [
       "                                 general.whois  general.reputation  \\\n",
       "0  http://whois.domaintools.com/52.221.198.232                   0   \n",
       "\n",
       "  general.indicator general.type general.type_title  \\\n",
       "0    52.221.198.232         IPv4               IPv4   \n",
       "\n",
       "   general.base_indicator.id general.base_indicator.indicator  \\\n",
       "0                 3920056104                   52.221.198.232   \n",
       "\n",
       "  general.base_indicator.type general.base_indicator.title  \\\n",
       "0                        IPv4                                \n",
       "\n",
       "  general.base_indicator.description  ... malware.count  \\\n",
       "0                                     ...             0   \n",
       "\n",
       "                                   url_list.url_list url_list.page_num  \\\n",
       "0  [{'url': 'https://52.221.198.232', 'date': '20...                 1   \n",
       "\n",
       "   url_list.limit url_list.paged url_list.has_next url_list.full_size  \\\n",
       "0              10           True             False                  2   \n",
       "\n",
       "  url_list.actual_size passive_dns.passive_dns passive_dns.count  \n",
       "0                    2                      []                 0  \n",
       "\n",
       "[1 rows x 76 columns]"
      ]
     },
     "execution_count": 56,
     "metadata": {},
     "output_type": "execute_result"
    }
   ],
   "source": [
    "from IndicatorTypes import *\n",
    "temp=otx_object.get_indicator_details_full(IPv4,'52.221.198.232')\n",
    "temp=json_normalize(temp)\n",
    "temp"
   ]
  }
 ],
 "metadata": {
  "kernelspec": {
   "display_name": "env",
   "language": "python",
   "name": "python3"
  },
  "language_info": {
   "codemirror_mode": {
    "name": "ipython",
    "version": 3
   },
   "file_extension": ".py",
   "mimetype": "text/x-python",
   "name": "python",
   "nbconvert_exporter": "python",
   "pygments_lexer": "ipython3",
   "version": "3.12.6"
  }
 },
 "nbformat": 4,
 "nbformat_minor": 2
}
